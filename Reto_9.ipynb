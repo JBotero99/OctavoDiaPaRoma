{
  "nbformat": 4,
  "nbformat_minor": 0,
  "metadata": {
    "colab": {
      "provenance": []
    },
    "kernelspec": {
      "name": "python3",
      "display_name": "Python 3"
    },
    "language_info": {
      "name": "python"
    }
  },
  "cells": [
    {
      "cell_type": "markdown",
      "source": [
        "1. Desarrollar un algoritmo que calcule el promedio de un arreglo de reales."
      ],
      "metadata": {
        "id": "lQHO7fSJtUhv"
      }
    },
    {
      "cell_type": "code",
      "execution_count": 30,
      "metadata": {
        "colab": {
          "base_uri": "https://localhost:8080/"
        },
        "id": "NDBI9zmxtSwx",
        "outputId": "3e1d776b-25c1-490f-db36-6eee32b096c9"
      },
      "outputs": [
        {
          "output_type": "stream",
          "name": "stdout",
          "text": [
            "Ingrese el número de elementos de la lista: 5\n",
            "Ingrese un número real: 3\n",
            "Ingrese un número real: 9\n",
            "Ingrese un número real: 2.5\n",
            "Ingrese un número real: 7.8\n",
            "Ingrese un número real: 4\n",
            "El promedio de la lista es de 5.26\n"
          ]
        }
      ],
      "source": [
        "def promedio(lista: list) -> float:\n",
        "  sumatoria = 0 #Necesitamos el valor de la suma de la lista, la cual vamos a dividir por la cantidad de elementos.\n",
        "  for i in lista:\n",
        "    sumatoria += i #sumamos cada elemento a la lista.\n",
        "  prom = sumatoria / len(lista) #la suma de todos los elementos sobre la cantidad de elementos.\n",
        "  return prom\n",
        "\n",
        "if __name__ == \"__main__\":\n",
        " #Las veces que va a iterar al momento de ingresarle datos.\n",
        " cant_elem = int(input(\"Ingrese el número de elementos de la lista: \"))\n",
        " lista = [] #Vacía para poder agragarle números.\n",
        " for i in range(cant_elem):\n",
        "    num = float(input(\"Ingrese un número real: \"))\n",
        "    lista.append(num) #añade el número al final.\n",
        " prome = promedio(lista) #Aplicamos la función.\n",
        " print(\"El promedio de la lista es de \" + str(prome))"
      ]
    },
    {
      "cell_type": "markdown",
      "source": [
        "2. Desarrollar un algoritmo que calcule el producto punto de dos arreglos de números enteros (reales) de igual tamaño."
      ],
      "metadata": {
        "id": "MAClbutu84AB"
      }
    },
    {
      "cell_type": "code",
      "source": [
        "def prod_punto(A: list, B: list) -> float:\n",
        "  sum = 0 #Realizaremos una suma con los productos de los componentes.\n",
        "  for i in range(len(A)): #El número de elementos de A es el mismo de B\n",
        "    sum += A[i] * B[i] #Multiplicamos entre componentes y lo agregamos a la suma\n",
        "  return sum\n",
        "\n",
        "if __name__ == \"__main__\":\n",
        "  tam_vector = int(input(\"Ingrese la cantidad de componentes de los vectores: \"))\n",
        "  #con esto aseguramos que ambos sean del mismo tamaño\n",
        "  A = []\n",
        "  B = []\n",
        "  #Dos listas vacías para agregarle datos\n",
        "  for i in range(tam_vector):\n",
        "    iA = int(input(\"Inserte valor de comoponente A\" + str(i+1) + \": \"))\n",
        "    A.append(iA)\n",
        "    iB = int(input(\"Inserte valor de componente B\" + str(i+1) + \": \"))\n",
        "    B.append(iB)\n",
        "  p_pto = prod_punto(A, B)\n",
        "  print(\"El producto punto entre A y B es: \" + str(p_pto))"
      ],
      "metadata": {
        "colab": {
          "base_uri": "https://localhost:8080/"
        },
        "id": "YmCZ-rAT99a7",
        "outputId": "8b630ccb-c8f3-46a4-812a-3d1634c76e2c"
      },
      "execution_count": 18,
      "outputs": [
        {
          "output_type": "stream",
          "name": "stdout",
          "text": [
            "Ingrese la cantidad de componentes de los vectores: 3\n",
            "Inserte valor de comoponente A1: 2\n",
            "Inserte valor de componente B1: 3\n",
            "Inserte valor de comoponente A2: 4\n",
            "Inserte valor de componente B2: 5\n",
            "Inserte valor de comoponente A3: 3\n",
            "Inserte valor de componente B3: 2\n",
            "El producto punto entre A y B es: 32\n"
          ]
        }
      ]
    },
    {
      "cell_type": "markdown",
      "source": [
        "3. Hacer un algoritmo que deje al final de un arreglo de números todos los ceros que aparezcan en dicho arreglo."
      ],
      "metadata": {
        "id": "LQJEcdtUGdky"
      }
    },
    {
      "cell_type": "code",
      "source": [
        "def ceros_final(A):\n",
        "  fin_cero = [] #lista donde quedarán los números organizados.\n",
        "  for i in A:\n",
        "    if i != 0:\n",
        "      fin_cero.append(i) #agregamos primero ponemos los que no son 0.\n",
        "  for j in A:\n",
        "    if j == 0:\n",
        "      fin_cero.append(j) #después agregamos todos los que son 0.\n",
        "  return fin_cero\n",
        "\n",
        "if __name__ == \"__main__\":\n",
        "  n_ele = int(input(\"Ingrese el número de elementos de la lista: \"))#Cantidad de elementos\n",
        "  A = [] #Lista a la que vamos a darle unos números.\n",
        "\n",
        "  for i in range(n_ele):\n",
        "    iA = float(input(\"Ingrese el valor: \")) #Introducimos números.\n",
        "    A.append(iA) #Agregamos los números a la lista.\n",
        "  A_fin = ceros_final(A)\n",
        "  print(A_fin)"
      ],
      "metadata": {
        "colab": {
          "base_uri": "https://localhost:8080/"
        },
        "id": "S0l9WpWzLTEX",
        "outputId": "77b06b54-0cd7-4dff-f426-4edb64bcad2a"
      },
      "execution_count": 29,
      "outputs": [
        {
          "output_type": "stream",
          "name": "stdout",
          "text": [
            "Ingrese el número de elementos de la lista: 4\n",
            "Ingrese el valor: 3\n",
            "Ingrese el valor: 0\n",
            "Ingrese el valor: 8\n",
            "Ingrese el valor: 7\n",
            "[3.0, 8.0, 7.0, 0.0]\n"
          ]
        }
      ]
    }
  ]
}